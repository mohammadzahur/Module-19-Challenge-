{
 "cells": [
  {
   "cell_type": "code",
   "execution_count": 22,
   "id": "e7caa5e5-cc96-4b9b-b94d-5dab499093b1",
   "metadata": {},
   "outputs": [],
   "source": [
    "import os\n",
    "from dotenv import load_dotenv\n",
    "load_dotenv()\n",
    "from mnemonic import Mnemonic\n",
    "from bip44 import Wallet\n",
    "from web3 import Account"
   ]
  },
  {
   "cell_type": "code",
   "execution_count": 23,
   "id": "8843726f-3f8a-4bee-8b37-5f258d0f378a",
   "metadata": {},
   "outputs": [
    {
     "name": "stdout",
     "output_type": "stream",
     "text": [
      "None\n"
     ]
    }
   ],
   "source": [
    "mnemonic = os.getenv(\"MNEMONIC\")\n",
    "print(mnemonic)"
   ]
  },
  {
   "cell_type": "code",
   "execution_count": 24,
   "id": "4c20fc3a-9569-4aea-b724-40047c222e2f",
   "metadata": {},
   "outputs": [
    {
     "data": {
      "text/plain": [
       "'donor occur bounce distance velvet sock will flash erase include assault ocean'"
      ]
     },
     "metadata": {},
     "output_type": "display_data"
    }
   ],
   "source": [
    "if mnemonic is None:\n",
    "    mnemo = Mnemonic(\"english\")\n",
    "    mnemonic = mnemo.generate(strength=128)\n",
    "    \n",
    "display(mnemonic)"
   ]
  },
  {
   "cell_type": "code",
   "execution_count": 25,
   "id": "fe2da11f-fc36-4b98-b452-8805e2700669",
   "metadata": {},
   "outputs": [
    {
     "data": {
      "text/plain": [
       "<bip44.wallet.Wallet at 0x23b1da11df0>"
      ]
     },
     "execution_count": 25,
     "metadata": {},
     "output_type": "execute_result"
    }
   ],
   "source": [
    "wallet = Wallet(mnemonic)\n",
    "wallet"
   ]
  },
  {
   "cell_type": "code",
   "execution_count": 26,
   "id": "3ec01fe0-0c64-4b09-ac6f-546ce136a70e",
   "metadata": {},
   "outputs": [
    {
     "name": "stdout",
     "output_type": "stream",
     "text": [
      "b\"\\xbf\\xd4%\\xe3\\xf5\\xe9\\x88W\\x13[\\xe4\\xa9\\x03w\\x19R\\xadD'\\xb7\\xc8\\x92\\xb5\\xd2\\xf8\\xf0\\xd4\\xa4\\xcf\\x9b\\x81m\"\n",
      "b\"\\x02\\xd5\\xe7\\x91\\xc8\\xf9R\\xfa\\x07['\\xf6\\xf8#\\xbe\\x082\\xcb\\xbfu\\xea&\\x9a_\\xb9k\\x90v\\x0fD\\xdb\\x10,\"\n"
     ]
    }
   ],
   "source": [
    "private, public = wallet.derive_account(\"eth\", account=0)\n",
    "\n",
    "print(private)\n",
    "\n",
    "print(public)"
   ]
  },
  {
   "cell_type": "code",
   "execution_count": 21,
   "id": "ab7dac80-71ee-41bc-a60d-206b308219d7",
   "metadata": {},
   "outputs": [
    {
     "ename": "AttributeError",
     "evalue": "'LocalAccount' object has no attribute 'private'",
     "output_type": "error",
     "traceback": [
      "\u001b[1;31m---------------------------------------------------------------------------\u001b[0m",
      "\u001b[1;31mAttributeError\u001b[0m                            Traceback (most recent call last)",
      "\u001b[1;32m~\\AppData\\Local\\Temp\\ipykernel_14144\\2172518051.py\u001b[0m in \u001b[0;36m<module>\u001b[1;34m\u001b[0m\n\u001b[0;32m      1\u001b[0m \u001b[0maccount\u001b[0m \u001b[1;33m=\u001b[0m \u001b[0mAccount\u001b[0m\u001b[1;33m.\u001b[0m\u001b[0mprivateKeyToAccount\u001b[0m\u001b[1;33m(\u001b[0m\u001b[0mprivate\u001b[0m\u001b[1;33m)\u001b[0m\u001b[1;33m\u001b[0m\u001b[1;33m\u001b[0m\u001b[0m\n\u001b[0;32m      2\u001b[0m \u001b[1;33m\u001b[0m\u001b[0m\n\u001b[1;32m----> 3\u001b[1;33m \u001b[0mprint\u001b[0m\u001b[1;33m(\u001b[0m\u001b[0maccount\u001b[0m\u001b[1;33m.\u001b[0m\u001b[0mprivate\u001b[0m\u001b[1;33m)\u001b[0m\u001b[1;33m\u001b[0m\u001b[1;33m\u001b[0m\u001b[0m\n\u001b[0m",
      "\u001b[1;31mAttributeError\u001b[0m: 'LocalAccount' object has no attribute 'private'"
     ]
    }
   ],
   "source": [
    "account = Account.privateKeyToAccount(private)\n",
    "\n",
    "print(account.private)"
   ]
  },
  {
   "cell_type": "code",
   "execution_count": 18,
   "id": "37b84e2d-7183-4f21-b39f-91b09a813ce4",
   "metadata": {},
   "outputs": [
    {
     "name": "stdout",
     "output_type": "stream",
     "text": [
      "0x8764A270F8099fBA8e1f98CAeAEC73A95D1B2B24\n"
     ]
    }
   ],
   "source": [
    "print (account.address)"
   ]
  },
  {
   "cell_type": "code",
   "execution_count": 19,
   "id": "fb8b4a72-9482-41aa-a0e0-ac68496fdab2",
   "metadata": {},
   "outputs": [
    {
     "data": {
      "text/plain": [
       "HexBytes('0x82b846c6ac9780e75d7583b221d4be0051f3d9408ef224376ddf506a5b133ccf')"
      ]
     },
     "execution_count": 19,
     "metadata": {},
     "output_type": "execute_result"
    }
   ],
   "source": [
    "account.privateKey"
   ]
  },
  {
   "cell_type": "code",
   "execution_count": 20,
   "id": "fb945054-9524-4674-8e60-c7ca6c6691a9",
   "metadata": {},
   "outputs": [
    {
     "ename": "ModuleNotFoundError",
     "evalue": "No module named 'eth_account.message'",
     "output_type": "error",
     "traceback": [
      "\u001b[1;31m---------------------------------------------------------------------------\u001b[0m",
      "\u001b[1;31mModuleNotFoundError\u001b[0m                       Traceback (most recent call last)",
      "\u001b[1;32m~\\AppData\\Local\\Temp\\ipykernel_14144\\2546896647.py\u001b[0m in \u001b[0;36m<module>\u001b[1;34m\u001b[0m\n\u001b[1;32m----> 1\u001b[1;33m \u001b[1;32mfrom\u001b[0m \u001b[0meth_account\u001b[0m\u001b[1;33m.\u001b[0m\u001b[0mmessage\u001b[0m \u001b[1;32mimport\u001b[0m \u001b[0mencode_defunct\u001b[0m\u001b[1;33m\u001b[0m\u001b[1;33m\u001b[0m\u001b[0m\n\u001b[0m",
      "\u001b[1;31mModuleNotFoundError\u001b[0m: No module named 'eth_account.message'"
     ]
    }
   ],
   "source": [
    "from eth_account.message import encode_defunct"
   ]
  },
  {
   "cell_type": "code",
   "execution_count": null,
   "id": "68344de8-ac39-4f1e-8ebd-d6582fbe050c",
   "metadata": {},
   "outputs": [],
   "source": []
  },
  {
   "cell_type": "code",
   "execution_count": null,
   "id": "e602b193-7249-442e-b789-f9a8f0ea28cc",
   "metadata": {},
   "outputs": [],
   "source": []
  }
 ],
 "metadata": {
  "kernelspec": {
   "display_name": "Python 3 (ipykernel)",
   "language": "python",
   "name": "python3"
  },
  "language_info": {
   "codemirror_mode": {
    "name": "ipython",
    "version": 3
   },
   "file_extension": ".py",
   "mimetype": "text/x-python",
   "name": "python",
   "nbconvert_exporter": "python",
   "pygments_lexer": "ipython3",
   "version": "3.9.13"
  }
 },
 "nbformat": 4,
 "nbformat_minor": 5
}
